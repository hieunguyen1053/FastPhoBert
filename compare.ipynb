{
 "cells": [
  {
   "cell_type": "code",
   "execution_count": 1,
   "source": [
    "import time"
   ],
   "outputs": [],
   "metadata": {}
  },
  {
   "cell_type": "markdown",
   "source": [
    "## HuggingFace"
   ],
   "metadata": {}
  },
  {
   "cell_type": "code",
   "execution_count": 2,
   "source": [
    "import torch\n",
    "from transformers import AutoModel, AutoTokenizer\n",
    "\n",
    "start = time.time()\n",
    "ori_model = AutoModel.from_pretrained('vinai/phobert-base')\n",
    "end = time.time()\n",
    "print(f'>>> Loaded model in {end - start} seconds')\n",
    "\n",
    "start = time.time()\n",
    "ori_tokenizer = AutoTokenizer.from_pretrained('vinai/phobert-base')\n",
    "end = time.time()\n",
    "print(f'>>> Loaded tokenizer in {end - start} seconds')\n",
    "\n",
    "start = time.time()\n",
    "token_ids = ori_tokenizer.encode('Tôi là sinh_viên trường Đại_học Tôn_Đức_Thắng')\n",
    "end = time.time()\n",
    "print('Tokens: ', token_ids)\n",
    "print(f'>>> Encoded in {end - start} seconds')\n",
    "\n",
    "token_ids = torch.tensor([token_ids], dtype=torch.int64)\n",
    "attention_mask = torch.ones_like(token_ids, dtype=torch.int64)\n",
    "\n",
    "start = time.time()\n",
    "with torch.no_grad():\n",
    "    output = ori_model(token_ids, attention_mask=attention_mask)\n",
    "end = time.time()\n",
    "last_hidden_state = output.last_hidden_state\n",
    "pooler_output = output.pooler_output\n",
    "print(f'Last hidden state shape: {last_hidden_state.shape}')\n",
    "print(f'Pooler ouput shape: {pooler_output.shape}')\n",
    "print(f'>>> Extracted last hidden state in {end - start} seconds')"
   ],
   "outputs": [
    {
     "output_type": "stream",
     "name": "stderr",
     "text": [
      "Some weights of the model checkpoint at vinai/phobert-base were not used when initializing RobertaModel: ['lm_head.decoder.weight', 'lm_head.bias', 'lm_head.dense.bias', 'lm_head.decoder.bias', 'lm_head.layer_norm.bias', 'lm_head.layer_norm.weight', 'lm_head.dense.weight']\n",
      "- This IS expected if you are initializing RobertaModel from the checkpoint of a model trained on another task or with another architecture (e.g. initializing a BertForSequenceClassification model from a BertForPreTraining model).\n",
      "- This IS NOT expected if you are initializing RobertaModel from the checkpoint of a model that you expect to be exactly identical (initializing a BertForSequenceClassification model from a BertForSequenceClassification model).\n"
     ]
    },
    {
     "output_type": "stream",
     "name": "stdout",
     "text": [
      ">>> Loaded model in 5.507025957107544 seconds\n"
     ]
    },
    {
     "output_type": "stream",
     "name": "stderr",
     "text": [
      "Special tokens have been added in the vocabulary, make sure the associated word embeddings are fine-tuned or trained.\n"
     ]
    },
    {
     "output_type": "stream",
     "name": "stdout",
     "text": [
      ">>> Loaded tokenizer in 11.773649215698242 seconds\n",
      "Tokens:  [0, 218, 8, 649, 212, 850, 10742, 2]\n",
      ">>> Encoded in 0.0007321834564208984 seconds\n",
      "Last hidden state shape: torch.Size([1, 8, 768])\n",
      "Pooler ouput shape: torch.Size([1, 768])\n",
      ">>> Extracted last hidden state in 0.14553403854370117 seconds\n"
     ]
    }
   ],
   "metadata": {}
  },
  {
   "cell_type": "code",
   "execution_count": 12,
   "source": [
    "from torch.nn.utils.rnn import pad_sequence\n",
    "batch_inputs = []\n",
    "token_ids = ori_tokenizer.encode('Tôi là sinh_viên trường Đại_học Tôn_Đức_Thắng')\n",
    "batch_inputs.append(torch.tensor(token_ids, dtype=torch.int64))\n",
    "token_ids = ori_tokenizer.encode('Tôi là thành_viên Câu_lạc_bộ học_thuật ICON')\n",
    "batch_inputs.append(torch.tensor(token_ids, dtype=torch.int64))\n",
    "token_ids = ori_tokenizer.encode('Năm nay là năm thứ 4')\n",
    "batch_inputs.append(torch.tensor(token_ids, dtype=torch.int64))\n",
    "batch_inputs = pad_sequence(batch_inputs, batch_first=True, padding_value=ori_tokenizer.pad_token_id)\n",
    "print(batch_inputs)\n",
    "\n",
    "attention_mask = batch_inputs.ne(ori_tokenizer.pad_token_id).to(torch.int64)\n",
    "print('Mask: ', attention_mask)\n",
    "\n",
    "start = time.time()\n",
    "with torch.no_grad():\n",
    "    output = ori_model(batch_inputs, attention_mask=attention_mask)\n",
    "end = time.time()\n",
    "last_hidden_state = output.last_hidden_state\n",
    "pooler_output = output.pooler_output\n",
    "print(f'Last hidden state shape: {last_hidden_state.shape}')\n",
    "print(f'Pooler ouput shape: {pooler_output.shape}')\n",
    "print(f'>>> Extracted last hidden state in {end - start} seconds')"
   ],
   "outputs": [
    {
     "output_type": "stream",
     "name": "stdout",
     "text": [
      "tensor([[    0,   218,     8,   649,   212,   850, 10742,     2,     1],\n",
      "        [    0,   218,     8,   496,  6945, 14347, 10038, 15111,     2],\n",
      "        [    0,   434,   136,     8,    29,   129,   163,     2,     1]])\n",
      "Mask:  tensor([[1, 1, 1, 1, 1, 1, 1, 1, 0],\n",
      "        [1, 1, 1, 1, 1, 1, 1, 1, 1],\n",
      "        [1, 1, 1, 1, 1, 1, 1, 1, 0]])\n",
      "Last hidden state shape: torch.Size([3, 9, 768])\n",
      "Pooler ouput shape: torch.Size([3, 768])\n",
      ">>> Extracted last hidden state in 0.789665937423706 seconds\n"
     ]
    }
   ],
   "metadata": {}
  },
  {
   "cell_type": "code",
   "execution_count": 4,
   "source": [
    "last_hidden_state1 = last_hidden_state.numpy()\n",
    "pooler_output1 = pooler_output.numpy()"
   ],
   "outputs": [],
   "metadata": {}
  },
  {
   "cell_type": "markdown",
   "source": [
    "## ONNX runtime and Custom Tokenizer"
   ],
   "metadata": {}
  },
  {
   "cell_type": "code",
   "execution_count": 5,
   "source": [
    "import numpy as np\n",
    "import onnxruntime as ort\n",
    "from tokenizer import Tokenizer\n",
    "\n",
    "start = time.time()\n",
    "ort_session = ort.InferenceSession('phobert_base.onnx')\n",
    "end = time.time()\n",
    "print(f'>>> Loaded ONNX model in {end - start} seconds')\n",
    "\n",
    "start = time.time()\n",
    "my_tokenizer = Tokenizer('vocab_files/vocab.txt', 'vocab_files/bpe.codes')\n",
    "end = time.time()\n",
    "print(f'>>> Loaded tokenizer in {end - start} seconds')\n",
    "\n",
    "start = time.time()\n",
    "token_ids = my_tokenizer.encode('Tôi là sinh_viên trường Đại_học Tôn_Đức_Thắng')\n",
    "end = time.time()\n",
    "print('Tokens: ', token_ids)\n",
    "print(f'>>> Encoded in {end - start} seconds')\n",
    "\n",
    "token_ids = np.array([token_ids, token_ids])\n",
    "attention_mask = np.ones_like(token_ids, dtype=np.int64)\n",
    "start = time.time()\n",
    "output = ort_session.run(['last_hidden_state', 'pooler_output'], {'input_ids': token_ids, 'attention_mask': attention_mask})\n",
    "end = time.time()\n",
    "last_hidden_state = output[0]\n",
    "pooler_output = output[1]\n",
    "print(f'Last hidden state shape: {last_hidden_state.shape}')\n",
    "print(f'Pooler ouput shape: {pooler_output.shape}')\n",
    "print(f'>>> Extracted last hidden state in {end - start} seconds')"
   ],
   "outputs": [
    {
     "output_type": "stream",
     "name": "stdout",
     "text": [
      ">>> Loaded ONNX model in 1.6606559753417969 seconds\n",
      ">>> Loaded tokenizer in 0.3865170478820801 seconds\n",
      "Tokens:  [    0   218     8   649   212   850 10742     2]\n",
      ">>> Encoded in 0.0003857612609863281 seconds\n",
      "Last hidden state shape: (2, 8, 768)\n",
      "Pooler ouput shape: (2, 768)\n",
      ">>> Extracted last hidden state in 0.08528900146484375 seconds\n"
     ]
    },
    {
     "output_type": "stream",
     "name": "stderr",
     "text": [
      "Loading vocabulary from vocab_files/vocab.txt ...\n",
      "Read 3149446962 words (63996 unique) from vocabulary file.\n",
      "Loading codes from vocab_files/bpe.codes ...\n",
      "Read 64000 codes from the codes file.\n"
     ]
    }
   ],
   "metadata": {}
  },
  {
   "cell_type": "code",
   "execution_count": 11,
   "source": [
    "batch_inputs = []\n",
    "token_ids = my_tokenizer.encode('Tôi là sinh_viên trường Đại_học Tôn_Đức_Thắng')\n",
    "batch_inputs.append(np.array(token_ids, dtype=np.int64))\n",
    "token_ids = my_tokenizer.encode('Tôi là thành_viên Câu_lạc_bộ học_thuật ICON')\n",
    "batch_inputs.append(np.array(token_ids, dtype=np.int64))\n",
    "token_ids = my_tokenizer.encode('Năm nay là năm thứ 4')\n",
    "batch_inputs.append(np.array(token_ids, dtype=np.int64))\n",
    "\n",
    "max_len = max([len(x) for x in batch_inputs])\n",
    "pad_idx = my_tokenizer.vocab.word2idx['<pad>']\n",
    "for i, x in enumerate(batch_inputs):\n",
    "    batch_inputs[i] = np.pad(x, (0, max_len - len(x)), 'constant', constant_values=pad_idx)\n",
    "batch_inputs = np.array(batch_inputs)\n",
    "print(batch_inputs)\n",
    "\n",
    "attention_mask = (batch_inputs != pad_idx).astype(np.int64)\n",
    "print('Mask: ', attention_mask)\n",
    "\n",
    "start = time.time()\n",
    "output = ort_session.run(['last_hidden_state', 'pooler_output'], {'input_ids': batch_inputs, 'attention_mask': attention_mask})\n",
    "end = time.time()\n",
    "last_hidden_state = output[0]\n",
    "pooler_output = output[1]\n",
    "print(f'Last hidden state shape: {last_hidden_state.shape}')\n",
    "print(f'Pooler ouput shape: {pooler_output.shape}')\n",
    "print(f'>>> Extracted last hidden state in {end - start} seconds')"
   ],
   "outputs": [
    {
     "output_type": "stream",
     "name": "stdout",
     "text": [
      "[[    0   218     8   649   212   850 10742     2     1]\n",
      " [    0   218     8   496  6945 14347 10038 15111     2]\n",
      " [    0   434   136     8    29   129   163     2     1]]\n",
      "Mask:  [[1 1 1 1 1 1 1 1 0]\n",
      " [1 1 1 1 1 1 1 1 1]\n",
      " [1 1 1 1 1 1 1 1 0]]\n",
      "Last hidden state shape: (3, 9, 768)\n",
      "Pooler ouput shape: (3, 768)\n",
      ">>> Extracted last hidden state in 0.1820201873779297 seconds\n"
     ]
    }
   ],
   "metadata": {}
  },
  {
   "cell_type": "code",
   "execution_count": 7,
   "source": [
    "last_hidden_state2 = last_hidden_state\n",
    "pooler_output2 = pooler_output"
   ],
   "outputs": [],
   "metadata": {}
  },
  {
   "cell_type": "code",
   "execution_count": 8,
   "source": [
    "print((last_hidden_state1 - last_hidden_state2).mean())"
   ],
   "outputs": [
    {
     "output_type": "stream",
     "name": "stdout",
     "text": [
      "6.721952e-10\n"
     ]
    }
   ],
   "metadata": {}
  },
  {
   "cell_type": "code",
   "execution_count": 9,
   "source": [
    "print((pooler_output1 - pooler_output2).mean())"
   ],
   "outputs": [
    {
     "output_type": "stream",
     "name": "stdout",
     "text": [
      "-4.10376e-09\n"
     ]
    }
   ],
   "metadata": {}
  }
 ],
 "metadata": {
  "orig_nbformat": 4,
  "language_info": {
   "name": "python",
   "version": "3.8.8",
   "mimetype": "text/x-python",
   "codemirror_mode": {
    "name": "ipython",
    "version": 3
   },
   "pygments_lexer": "ipython3",
   "nbconvert_exporter": "python",
   "file_extension": ".py"
  },
  "kernelspec": {
   "name": "python3",
   "display_name": "Python 3.8.8 64-bit ('.venv': venv)"
  },
  "interpreter": {
   "hash": "10c5bfa3e7befd71694e58f0ad3ee527cff917490f1a1da250e84b78a07f1d0e"
  }
 },
 "nbformat": 4,
 "nbformat_minor": 2
}